{
 "cells": [
  {
   "cell_type": "code",
   "execution_count": 1,
   "metadata": {},
   "outputs": [],
   "source": [
    "import numpy as np\n",
    "import pathlib#pip install pathlib2\n",
    "from pathlib import Path\n",
    "import datetime\n",
    "import os\n",
    "from datetime import datetime\n",
    "from datetime import date\n",
    "import time\n",
    "from datetime import timedelta\n",
    "import sys\n",
    "import math\n",
    "from shapely.geometry import Polygon\n",
    "\n",
    "from shapely.geometry import MultiPoint\n",
    "from shapely.ops import triangulate\n",
    "from matplotlib import pyplot as plt\n",
    "from descartes.patch import PolygonPatch"
   ]
  },
  {
   "cell_type": "code",
   "execution_count": 2,
   "metadata": {},
   "outputs": [],
   "source": [
    "def get_filename(filename):\n",
    "  (filepath,tempfilename) = os.path.split(filename);\n",
    "  (shotname,extension) = os.path.splitext(tempfilename);\n",
    "  #return filepath,shotname,extension\n",
    "  return shotname\n",
    "\n",
    "def Normaltime1(datetime1):\n",
    "    Normaltime = datetime.strptime(datetime1,'%Y-%m-%d %H_%M')\n",
    "    return Normaltime\n",
    "\n",
    "def totuple(a):\n",
    "    try:\n",
    "        return tuple(totuple(i) for i in a)\n",
    "    except TypeError:\n",
    "        return a"
   ]
  },
  {
   "cell_type": "code",
   "execution_count": 3,
   "metadata": {},
   "outputs": [],
   "source": [
    "path=pathlib.Path('D:\\\\人工智能产品\\\\AM-天空识别预测模型\\\\Stack Length\\\\')\n",
    "fp=list(path.glob('**/2019*.txt'))"
   ]
  },
  {
   "cell_type": "code",
   "execution_count": 4,
   "metadata": {},
   "outputs": [
    {
     "name": "stdout",
     "output_type": "stream",
     "text": [
      "2019-03-07 09:12:00\n"
     ]
    }
   ],
   "source": [
    "f= open(path/'Plume Area and Length.txt', 'a')\n",
    "\n",
    "for fi in fp:\n",
    "    \n",
    "    result=[]\n",
    "    with open(fi,'r') as f0:\n",
    "        for line in f0:\n",
    "            line=line.split()\n",
    "            result.append(line)\n",
    "            \n",
    "    Points=result[0][:-2]\n",
    "    Pn=len(Points)//2\n",
    "    PointsXY=np.array(Points).reshape(Pn,2)\n",
    "    Point=PointsXY.astype(float)\n",
    "    PointT=totuple(Point)\n",
    "    \n",
    "    fname=get_filename(fi)\n",
    "    time=Normaltime1(fname)\n",
    "    shape = Polygon(PointT)\n",
    "    print(time)\n",
    "    print(time,shape.area,shape.length, file=f)"
   ]
  },
  {
   "cell_type": "code",
   "execution_count": null,
   "metadata": {},
   "outputs": [],
   "source": []
  }
 ],
 "metadata": {
  "kernelspec": {
   "display_name": "Python 3",
   "language": "python",
   "name": "python3"
  },
  "language_info": {
   "codemirror_mode": {
    "name": "ipython",
    "version": 3
   },
   "file_extension": ".py",
   "mimetype": "text/x-python",
   "name": "python",
   "nbconvert_exporter": "python",
   "pygments_lexer": "ipython3",
   "version": "3.6.5"
  }
 },
 "nbformat": 4,
 "nbformat_minor": 2
}
