{
 "cells": [
  {
   "cell_type": "code",
   "execution_count": 1,
   "metadata": {},
   "outputs": [],
   "source": [
    "import json\n",
    "from labelme import utils\n",
    "from labelme.utils import image\n",
    "import cv2\n",
    "from PIL import Image"
   ]
  },
  {
   "cell_type": "code",
   "execution_count": 2,
   "metadata": {},
   "outputs": [],
   "source": [
    "import numpy as np\n",
    "import pathlib#pip install pathlib2\n",
    "from pathlib import Path"
   ]
  },
  {
   "cell_type": "code",
   "execution_count": 3,
   "metadata": {},
   "outputs": [],
   "source": [
    "import datetime\n",
    "import os\n",
    "from datetime import datetime\n",
    "from datetime import date\n",
    "import time\n",
    "from datetime import timedelta"
   ]
  },
  {
   "cell_type": "code",
   "execution_count": 4,
   "metadata": {},
   "outputs": [],
   "source": [
    "\n",
    "def get_filename(filename):\n",
    "  (filepath,tempfilename) = os.path.split(filename);\n",
    "  (shotname,extension) = os.path.splitext(tempfilename);\n",
    "  #return filepath,shotname,extension\n",
    "  return shotname\n",
    "#################################################################################\n",
    "\n",
    "def get_filepath(filename):\n",
    "  (filepath,tempfilename) = os.path.split(filename);\n",
    "  (shotname,extension) = os.path.splitext(tempfilename);\n",
    "  return filepath\n",
    "  #return shotname"
   ]
  },
  {
   "cell_type": "code",
   "execution_count": 5,
   "metadata": {},
   "outputs": [],
   "source": [
    "\n",
    "def Normaltime1(datetime1):\n",
    "    Normaltime = datetime.strptime(datetime1,'%Y-%m-%d %H_%M')\n",
    "    return Normaltime\n",
    "\n",
    "\n",
    "def Changestr(datetime1):\n",
    "    str1 = datetime1.strftime('%Y-%m-%d %H:%M')\n",
    "    return str1"
   ]
  },
  {
   "cell_type": "code",
   "execution_count": 6,
   "metadata": {},
   "outputs": [],
   "source": [
    "path=pathlib.Path('C:\\Users\\Administrator\\Documents\\GitHub\\Data_Plume_Shape_and_Particle_Concentration')"
   ]
  },
  {
   "cell_type": "code",
   "execution_count": 7,
   "metadata": {},
   "outputs": [],
   "source": [
    "fp=list(path.glob('**/2019*.json'))\n",
    "ft=list(path.glob('**/2019*.png'))"
   ]
  },
  {
   "cell_type": "code",
   "execution_count": 8,
   "metadata": {},
   "outputs": [],
   "source": [
    "for fi in fp:\n",
    "    filename=get_filename(fi)\n",
    "    time=Normaltime1(filename)\n",
    "    print(time)"
   ]
  },
  {
   "cell_type": "code",
   "execution_count": 9,
   "metadata": {},
   "outputs": [],
   "source": [
    "import numpy as np\n",
    "import os\n",
    "import json\n",
    "import io\n",
    "import PIL.Image\n",
    "\n",
    "def shapes_to_label(json_file_path,savaFileName):\n",
    "    list_path = os.listdir(json_file_path)\n",
    "    file_handle = open(savaFileName, mode='w')\n",
    "    for i in range(0,len(list_path)):\n",
    "        path = os.path.join(json_file_path,list_path[i])\n",
    "        if os.path.isfile(path):\n",
    "            data = json.load(open(path))\n",
    "            for shape in data['shapes']:\n",
    "                label_name = shape['label']\n",
    "                file_handle.write(label_name)\n",
    "                polygons = shape['points']    \n",
    "                for m in range(len(polygons)):\n",
    "                    for n in range(len(polygons[m])):\n",
    "                          file_handle.write(str(polygons[m][n]))\n",
    "                          file_handle.write(\",\")                   \n",
    "                    file_handle.write(\"\\n\")               \n",
    "    file_handle.close()"
   ]
  },
  {
   "cell_type": "code",
   "execution_count": 10,
   "metadata": {},
   "outputs": [],
   "source": [
    "for fi in fp:\n",
    "    print(fi)"
   ]
  },
  {
   "cell_type": "code",
   "execution_count": 11,
   "metadata": {},
   "outputs": [],
   "source": [
    "import json\n",
    "import os\n",
    "from glob import glob"
   ]
  },
  {
   "cell_type": "code",
   "execution_count": 12,
   "metadata": {},
   "outputs": [],
   "source": [
    "def custombasename(fullname):\n",
    "    return os.path.basename(os.path.splitext(fullname)[0])"
   ]
  },
  {
   "cell_type": "code",
   "execution_count": 13,
   "metadata": {},
   "outputs": [],
   "source": [
    "IN_PATH = 'C:\\Users\\Administrator\\Documents\\GitHub\\Data_Plume_Shape_and_Particle_Concentration\\json'\n",
    "OUT_PATH = 'C:\\Users\\Administrator\\Documents\\GitHub\\Data_Plume_Shape_and_Particle_Concentration\\jason2txt'\n",
    "file_list = glob(IN_PATH + '/*.json')"
   ]
  },
  {
   "cell_type": "code",
   "execution_count": 14,
   "metadata": {},
   "outputs": [
    {
     "name": "stdout",
     "output_type": "stream",
     "text": [
      "1/1\n"
     ]
    }
   ],
   "source": [
    "for i in range(len(file_list)):\n",
    "    with open(file_list[i]) as f:\n",
    "        label_str = f.read()\n",
    "        label_dict = json.loads(label_str)  \n",
    "\n",
    "        out_file = OUT_PATH + '/' + custombasename(file_list[i]) + '.txt'\n",
    "\n",
    "        fout = open(out_file, 'w')\n",
    "        out_str = ''\n",
    "        for shape_dict in label_dict['shapes']:\n",
    "            points = shape_dict['points']\n",
    "            for p in points:\n",
    "                out_str += (str(p[0]) + ' ' + str(p[1]) + ' ')\n",
    "            out_str += shape_dict['label'] + ' 0\\n'\n",
    "        fout.write(out_str)\n",
    "        fout.close()\n",
    "    print('%d/%d' % (i + 1, len(file_list)))"
   ]
  },
  {
   "cell_type": "code",
   "execution_count": null,
   "metadata": {},
   "outputs": [],
   "source": []
  }
 ],
 "metadata": {
  "kernelspec": {
   "display_name": "Python 3",
   "language": "python",
   "name": "python3"
  },
  "language_info": {
   "codemirror_mode": {
    "name": "ipython",
    "version": 3
   },
   "file_extension": ".py",
   "mimetype": "text/x-python",
   "name": "python",
   "nbconvert_exporter": "python",
   "pygments_lexer": "ipython3",
   "version": "3.6.5"
  }
 },
 "nbformat": 4,
 "nbformat_minor": 2
}
